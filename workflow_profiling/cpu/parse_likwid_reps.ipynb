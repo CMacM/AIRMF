{
 "cells": [
  {
   "cell_type": "code",
   "execution_count": 1,
   "id": "c642f383",
   "metadata": {},
   "outputs": [],
   "source": [
    "import math\n",
    "import pandas as pd\n",
    "from glob import glob\n",
    "import os\n",
    "import re\n",
    "\n",
    "# Directory containing the LIKWID report files\n",
    "report_dir = \"./likwid_reports\"\n",
    "rep_files = glob(os.path.join(report_dir, \"likwid_*_FULL.csv\"))"
   ]
  },
  {
   "cell_type": "code",
   "execution_count": 2,
   "id": "9406b1dd",
   "metadata": {},
   "outputs": [
    {
     "name": "stdout",
     "output_type": "stream",
     "text": [
      "Found 0 report files.\n",
      "Report files: []\n",
      "Extracted tile ID: []\n"
     ]
    }
   ],
   "source": [
    "# Find all .csv files in the current directory\n",
    "rep_files = glob(os.path.join(\".\", \"likwid_reps\", \"likwid*_FULL.csv\"))\n",
    "print(f\"Found {len(rep_files)} report files.\")\n",
    "print(f\"Report files: {rep_files}\")\n",
    "\n",
    "# Extract tile IDs from likwid_$TILE.csv filenames\n",
    "tile_ids = [re.split(r\"likwid_\", f)[-1].split(\"_FULL.csv\")[0] for f in rep_files]\n",
    "print(f\"Extracted tile ID: {tile_ids}\")\n",
    "\n",
    "# Parse each file and store the data in a list of DataFrames\n",
    "dfs = []\n",
    "for f, tile_id in zip(rep_files, tile_ids):\n",
    "    df = pd.read_csv(f, skiprows=1)  # Skip the first row\n",
    "    df[\"Tile\"] = tile_id  # Add a column for the tile ID\n",
    "    dfs.append(df)"
   ]
  },
  {
   "cell_type": "code",
   "execution_count": null,
   "id": "fce854a1",
   "metadata": {},
   "outputs": [
    {
     "name": "stdout",
     "output_type": "stream",
     "text": [
      "Empty DataFrame\n",
      "Columns: [Tile, Runtime, TFLOPs, TB]\n",
      "Index: []\n"
     ]
    },
    {
     "ename": "ZeroDivisionError",
     "evalue": "division by zero",
     "output_type": "error",
     "traceback": [
      "\u001b[31m---------------------------------------------------------------------------\u001b[39m",
      "\u001b[31mZeroDivisionError\u001b[39m                         Traceback (most recent call last)",
      "\u001b[36mCell\u001b[39m\u001b[36m \u001b[39m\u001b[32mIn[3]\u001b[39m\u001b[32m, line 39\u001b[39m\n\u001b[32m     36\u001b[39m \u001b[38;5;28mprint\u001b[39m(results_df)\n\u001b[32m     38\u001b[39m \u001b[38;5;66;03m# Average across tiles\u001b[39;00m\n\u001b[32m---> \u001b[39m\u001b[32m39\u001b[39m avg_tflops = \u001b[38;5;28;43msum\u001b[39;49m\u001b[43m(\u001b[49m\u001b[43mtflop_values\u001b[49m\u001b[43m)\u001b[49m\u001b[43m \u001b[49m\u001b[43m/\u001b[49m\u001b[43m \u001b[49m\u001b[38;5;28;43mlen\u001b[39;49m\u001b[43m(\u001b[49m\u001b[43mtflop_values\u001b[49m\u001b[43m)\u001b[49m\n\u001b[32m     40\u001b[39m avg_tbytes = \u001b[38;5;28msum\u001b[39m(tbyte_values) / \u001b[38;5;28mlen\u001b[39m(tbyte_values)\n\u001b[32m     41\u001b[39m avg_runtime = \u001b[38;5;28msum\u001b[39m(runtime_values) / \u001b[38;5;28mlen\u001b[39m(runtime_values)\n",
      "\u001b[31mZeroDivisionError\u001b[39m: division by zero"
     ]
    }
   ],
   "source": [
    "# Loop through each DataFrame and calculate FLOPs and memory data volume\n",
    "tflop_values = []\n",
    "tbyte_values = []\n",
    "runtime_values = []\n",
    "for df in dfs:\n",
    "    # filter out rows that contain \"FP_ARITH_INST_RETIRED.*SINGLE\" in the first column\n",
    "    fp_df = df[df.iloc[:, 0].str.contains(r\"FP_ARITH_INST_RETIRED.*SINGLE STAT\", regex=True)]\n",
    "\n",
    "    vector_widths = [4, 1, 8] # SP Packed 128, SP SCALAR, SP Packed 256\n",
    "    total_flops = 0 \n",
    "    for i, vw in enumerate(vector_widths):\n",
    "        flops = float(fp_df.iloc[i, 2]) * vw\n",
    "        total_flops += flops\n",
    "\n",
    "    # Multiply by 2 for FMA and convert to TFLOPs\n",
    "    total_flops *= 2 / 1e12\n",
    "\n",
    "    # Filter out MEM result\n",
    "    mem_df = df[df.iloc[:, 0].str.contains(r\"Memory data volume.*STAT\", regex=True)]\n",
    "    mem_tb = float(mem_df.iloc[0, 1]) / 1024  # Convert to TB\n",
    "\n",
    "    # Extract elapsed time value\n",
    "    runtime = float(re.split(r\":\\s+\", df.iloc[-1, 0])[-1])\n",
    "    \n",
    "    tflop_values.append(total_flops)\n",
    "    tbyte_values.append(mem_tb)\n",
    "    runtime_values.append(runtime)\n",
    "\n",
    "# construct new dataframe with tile, tflops, tbytes, runtime\n",
    "results_df = pd.DataFrame({\n",
    "    \"Tile\": tile_ids,\n",
    "    \"Runtime\": runtime_values,\n",
    "    \"TFLOPs\": tflop_values,\n",
    "    \"TB\": tbyte_values,\n",
    "})\n",
    "print(results_df)\n",
    "\n",
    "# Average across tiles\n",
    "avg_tflops = sum(tflop_values) / len(tflop_values)\n",
    "avg_tbytes = sum(tbyte_values) / len(tbyte_values)\n",
    "avg_runtime = sum(runtime_values) / len(runtime_values)\n",
    "\n",
    "print(\"---------------------------------\")\n",
    "print(f\"Average TFLOPs: {avg_tflops:.2f} TFLOPs\")\n",
    "print(f\"Average TB: {avg_tbytes:.2f} TB\")\n",
    "print(f\"Average Runtime: {avg_runtime:.2f} seconds\")"
   ]
  }
 ],
 "metadata": {
  "kernelspec": {
   "display_name": "dafab",
   "language": "python",
   "name": "python3"
  },
  "language_info": {
   "codemirror_mode": {
    "name": "ipython",
    "version": 3
   },
   "file_extension": ".py",
   "mimetype": "text/x-python",
   "name": "python",
   "nbconvert_exporter": "python",
   "pygments_lexer": "ipython3",
   "version": "3.12.11"
  }
 },
 "nbformat": 4,
 "nbformat_minor": 5
}
